{
 "cells": [
  {
   "cell_type": "markdown",
   "metadata": {},
   "source": [
    "## School System Finances"
   ]
  },
  {
   "cell_type": "code",
   "execution_count": 52,
   "metadata": {
    "collapsed": true
   },
   "outputs": [],
   "source": [
    "# removes the need to call plt.show() every time\n",
    "%matplotlib inline \n",
    "import missingno as msno\n",
    "import seaborn as sns\n",
    "import numpy as np\n",
    "import pandas as pd\n",
    "import matplotlib.pyplot as plt"
   ]
  },
  {
   "cell_type": "code",
   "execution_count": 2,
   "metadata": {},
   "outputs": [
    {
     "name": "stderr",
     "output_type": "stream",
     "text": [
      "/Users/SophiaLi/anaconda/lib/python3.6/site-packages/IPython/core/interactiveshell.py:2717: DtypeWarning: Columns (7) have mixed types. Specify dtype option on import or set low_memory=False.\n",
      "  interactivity=interactivity, compiler=compiler, result=result)\n"
     ]
    }
   ],
   "source": [
    "df = pd.read_csv('school_data.csv')"
   ]
  },
  {
   "cell_type": "code",
   "execution_count": 3,
   "metadata": {},
   "outputs": [
    {
     "data": {
      "text/html": [
       "<div>\n",
       "<style>\n",
       "    .dataframe thead tr:only-child th {\n",
       "        text-align: right;\n",
       "    }\n",
       "\n",
       "    .dataframe thead th {\n",
       "        text-align: left;\n",
       "    }\n",
       "\n",
       "    .dataframe tbody tr th {\n",
       "        vertical-align: top;\n",
       "    }\n",
       "</style>\n",
       "<table border=\"1\" class=\"dataframe\">\n",
       "  <thead>\n",
       "    <tr style=\"text-align: right;\">\n",
       "      <th></th>\n",
       "      <th>STATE</th>\n",
       "      <th>IDCENSUS</th>\n",
       "      <th>NAME</th>\n",
       "      <th>CONUM</th>\n",
       "      <th>CSA</th>\n",
       "      <th>CBSA</th>\n",
       "      <th>SCHLEV</th>\n",
       "      <th>NCESID</th>\n",
       "      <th>YRDATA</th>\n",
       "      <th>V33</th>\n",
       "      <th>...</th>\n",
       "      <th>V32</th>\n",
       "      <th>_19H</th>\n",
       "      <th>_21F</th>\n",
       "      <th>_31F</th>\n",
       "      <th>_41F</th>\n",
       "      <th>_61V</th>\n",
       "      <th>_66V</th>\n",
       "      <th>W01</th>\n",
       "      <th>W31</th>\n",
       "      <th>W61</th>\n",
       "    </tr>\n",
       "  </thead>\n",
       "  <tbody>\n",
       "    <tr>\n",
       "      <th>0</th>\n",
       "      <td>1</td>\n",
       "      <td>1.500100e+12</td>\n",
       "      <td>AUTAUGA COUNTY SCHOOL DISTRICT</td>\n",
       "      <td>1001</td>\n",
       "      <td>N</td>\n",
       "      <td>33860</td>\n",
       "      <td>3</td>\n",
       "      <td>100240</td>\n",
       "      <td>15</td>\n",
       "      <td>9664</td>\n",
       "      <td>...</td>\n",
       "      <td>0</td>\n",
       "      <td>49431</td>\n",
       "      <td>16603</td>\n",
       "      <td>2992</td>\n",
       "      <td>63042</td>\n",
       "      <td>0</td>\n",
       "      <td>0</td>\n",
       "      <td>2094</td>\n",
       "      <td>372</td>\n",
       "      <td>8617</td>\n",
       "    </tr>\n",
       "    <tr>\n",
       "      <th>1</th>\n",
       "      <td>1</td>\n",
       "      <td>1.500200e+12</td>\n",
       "      <td>BALDWIN COUNTY SCHOOL DISTRICT</td>\n",
       "      <td>1003</td>\n",
       "      <td>380</td>\n",
       "      <td>19300</td>\n",
       "      <td>3</td>\n",
       "      <td>100270</td>\n",
       "      <td>15</td>\n",
       "      <td>30596</td>\n",
       "      <td>...</td>\n",
       "      <td>0</td>\n",
       "      <td>337160</td>\n",
       "      <td>99087</td>\n",
       "      <td>13027</td>\n",
       "      <td>423220</td>\n",
       "      <td>0</td>\n",
       "      <td>0</td>\n",
       "      <td>5784</td>\n",
       "      <td>50441</td>\n",
       "      <td>71370</td>\n",
       "    </tr>\n",
       "    <tr>\n",
       "      <th>2</th>\n",
       "      <td>1</td>\n",
       "      <td>1.500300e+12</td>\n",
       "      <td>BARBOUR COUNTY SCHOOL DISTRICT</td>\n",
       "      <td>1005</td>\n",
       "      <td>N</td>\n",
       "      <td>N</td>\n",
       "      <td>3</td>\n",
       "      <td>100300</td>\n",
       "      <td>15</td>\n",
       "      <td>925</td>\n",
       "      <td>...</td>\n",
       "      <td>0</td>\n",
       "      <td>8024</td>\n",
       "      <td>0</td>\n",
       "      <td>304</td>\n",
       "      <td>7720</td>\n",
       "      <td>0</td>\n",
       "      <td>0</td>\n",
       "      <td>0</td>\n",
       "      <td>0</td>\n",
       "      <td>646</td>\n",
       "    </tr>\n",
       "    <tr>\n",
       "      <th>3</th>\n",
       "      <td>1</td>\n",
       "      <td>1.500300e+12</td>\n",
       "      <td>EUFAULA CITY SCHOOL DISTRICT</td>\n",
       "      <td>1005</td>\n",
       "      <td>N</td>\n",
       "      <td>N</td>\n",
       "      <td>3</td>\n",
       "      <td>101410</td>\n",
       "      <td>15</td>\n",
       "      <td>2829</td>\n",
       "      <td>...</td>\n",
       "      <td>0</td>\n",
       "      <td>0</td>\n",
       "      <td>0</td>\n",
       "      <td>0</td>\n",
       "      <td>0</td>\n",
       "      <td>0</td>\n",
       "      <td>0</td>\n",
       "      <td>0</td>\n",
       "      <td>2054</td>\n",
       "      <td>7478</td>\n",
       "    </tr>\n",
       "    <tr>\n",
       "      <th>4</th>\n",
       "      <td>1</td>\n",
       "      <td>1.500400e+12</td>\n",
       "      <td>BIBB COUNTY SCHOOL DISTRICT</td>\n",
       "      <td>1007</td>\n",
       "      <td>142</td>\n",
       "      <td>13820</td>\n",
       "      <td>3</td>\n",
       "      <td>100360</td>\n",
       "      <td>15</td>\n",
       "      <td>3357</td>\n",
       "      <td>...</td>\n",
       "      <td>0</td>\n",
       "      <td>22155</td>\n",
       "      <td>0</td>\n",
       "      <td>1190</td>\n",
       "      <td>20965</td>\n",
       "      <td>0</td>\n",
       "      <td>0</td>\n",
       "      <td>1397</td>\n",
       "      <td>790</td>\n",
       "      <td>5400</td>\n",
       "    </tr>\n",
       "  </tbody>\n",
       "</table>\n",
       "<p>5 rows × 141 columns</p>\n",
       "</div>"
      ],
      "text/plain": [
       "   STATE      IDCENSUS                            NAME  CONUM  CSA   CBSA  \\\n",
       "0      1  1.500100e+12  AUTAUGA COUNTY SCHOOL DISTRICT   1001    N  33860   \n",
       "1      1  1.500200e+12  BALDWIN COUNTY SCHOOL DISTRICT   1003  380  19300   \n",
       "2      1  1.500300e+12  BARBOUR COUNTY SCHOOL DISTRICT   1005    N      N   \n",
       "3      1  1.500300e+12    EUFAULA CITY SCHOOL DISTRICT   1005    N      N   \n",
       "4      1  1.500400e+12     BIBB COUNTY SCHOOL DISTRICT   1007  142  13820   \n",
       "\n",
       "   SCHLEV  NCESID  YRDATA    V33  ...    V32    _19H   _21F   _31F    _41F  \\\n",
       "0       3  100240      15   9664  ...      0   49431  16603   2992   63042   \n",
       "1       3  100270      15  30596  ...      0  337160  99087  13027  423220   \n",
       "2       3  100300      15    925  ...      0    8024      0    304    7720   \n",
       "3       3  101410      15   2829  ...      0       0      0      0       0   \n",
       "4       3  100360      15   3357  ...      0   22155      0   1190   20965   \n",
       "\n",
       "   _61V  _66V   W01    W31    W61  \n",
       "0     0     0  2094    372   8617  \n",
       "1     0     0  5784  50441  71370  \n",
       "2     0     0     0      0    646  \n",
       "3     0     0     0   2054   7478  \n",
       "4     0     0  1397    790   5400  \n",
       "\n",
       "[5 rows x 141 columns]"
      ]
     },
     "execution_count": 3,
     "metadata": {},
     "output_type": "execute_result"
    }
   ],
   "source": [
    "df.head()"
   ]
  },
  {
   "cell_type": "code",
   "execution_count": 4,
   "metadata": {},
   "outputs": [
    {
     "data": {
      "text/plain": [
       "Index(['STATE', 'IDCENSUS', 'NAME', 'CONUM', 'CSA', 'CBSA', 'SCHLEV', 'NCESID',\n",
       "       'YRDATA', 'V33',\n",
       "       ...\n",
       "       'V32', '_19H', '_21F', '_31F', '_41F', '_61V', '_66V', 'W01', 'W31',\n",
       "       'W61'],\n",
       "      dtype='object', length=141)"
      ]
     },
     "execution_count": 4,
     "metadata": {},
     "output_type": "execute_result"
    }
   ],
   "source": [
    "df.columns"
   ]
  },
  {
   "cell_type": "code",
   "execution_count": 74,
   "metadata": {},
   "outputs": [],
   "source": [
    "clean_df = df[['NAME', 'IDCENSUS', 'CSA', 'SCHLEV', 'TOTALREV', 'TFEDREV', 'TSTREV', 'TLOCREV', 'TCURINST', 'TCURSSVC']]"
   ]
  },
  {
   "cell_type": "code",
   "execution_count": 29,
   "metadata": {
    "collapsed": true
   },
   "outputs": [],
   "source": [
    "#clean_df.columns = ['ID_Census', \"Name\", 'ANSI_Code', 'Consolidated Statistical Area1']"
   ]
  },
  {
   "cell_type": "code",
   "execution_count": 75,
   "metadata": {},
   "outputs": [
    {
     "data": {
      "text/html": [
       "<div>\n",
       "<style>\n",
       "    .dataframe thead tr:only-child th {\n",
       "        text-align: right;\n",
       "    }\n",
       "\n",
       "    .dataframe thead th {\n",
       "        text-align: left;\n",
       "    }\n",
       "\n",
       "    .dataframe tbody tr th {\n",
       "        vertical-align: top;\n",
       "    }\n",
       "</style>\n",
       "<table border=\"1\" class=\"dataframe\">\n",
       "  <thead>\n",
       "    <tr style=\"text-align: right;\">\n",
       "      <th></th>\n",
       "      <th>NAME</th>\n",
       "      <th>IDCENSUS</th>\n",
       "      <th>CSA</th>\n",
       "      <th>SCHLEV</th>\n",
       "      <th>TOTALREV</th>\n",
       "      <th>TFEDREV</th>\n",
       "      <th>TSTREV</th>\n",
       "      <th>TLOCREV</th>\n",
       "      <th>TCURINST</th>\n",
       "      <th>TCURSSVC</th>\n",
       "    </tr>\n",
       "  </thead>\n",
       "  <tbody>\n",
       "    <tr>\n",
       "      <th>0</th>\n",
       "      <td>AUTAUGA COUNTY SCHOOL DISTRICT</td>\n",
       "      <td>1.500100e+12</td>\n",
       "      <td>N</td>\n",
       "      <td>3</td>\n",
       "      <td>79665</td>\n",
       "      <td>7574</td>\n",
       "      <td>53244</td>\n",
       "      <td>18847</td>\n",
       "      <td>44085</td>\n",
       "      <td>23217</td>\n",
       "    </tr>\n",
       "    <tr>\n",
       "      <th>1</th>\n",
       "      <td>BALDWIN COUNTY SCHOOL DISTRICT</td>\n",
       "      <td>1.500200e+12</td>\n",
       "      <td>380</td>\n",
       "      <td>3</td>\n",
       "      <td>330317</td>\n",
       "      <td>23602</td>\n",
       "      <td>143282</td>\n",
       "      <td>163433</td>\n",
       "      <td>155668</td>\n",
       "      <td>99682</td>\n",
       "    </tr>\n",
       "    <tr>\n",
       "      <th>2</th>\n",
       "      <td>BARBOUR COUNTY SCHOOL DISTRICT</td>\n",
       "      <td>1.500300e+12</td>\n",
       "      <td>N</td>\n",
       "      <td>3</td>\n",
       "      <td>10519</td>\n",
       "      <td>2518</td>\n",
       "      <td>5632</td>\n",
       "      <td>2369</td>\n",
       "      <td>5249</td>\n",
       "      <td>3835</td>\n",
       "    </tr>\n",
       "    <tr>\n",
       "      <th>3</th>\n",
       "      <td>EUFAULA CITY SCHOOL DISTRICT</td>\n",
       "      <td>1.500300e+12</td>\n",
       "      <td>N</td>\n",
       "      <td>3</td>\n",
       "      <td>26076</td>\n",
       "      <td>3374</td>\n",
       "      <td>16048</td>\n",
       "      <td>6654</td>\n",
       "      <td>14887</td>\n",
       "      <td>7494</td>\n",
       "    </tr>\n",
       "    <tr>\n",
       "      <th>4</th>\n",
       "      <td>BIBB COUNTY SCHOOL DISTRICT</td>\n",
       "      <td>1.500400e+12</td>\n",
       "      <td>142</td>\n",
       "      <td>3</td>\n",
       "      <td>31825</td>\n",
       "      <td>3586</td>\n",
       "      <td>21687</td>\n",
       "      <td>6552</td>\n",
       "      <td>16019</td>\n",
       "      <td>10822</td>\n",
       "    </tr>\n",
       "  </tbody>\n",
       "</table>\n",
       "</div>"
      ],
      "text/plain": [
       "                             NAME      IDCENSUS  CSA  SCHLEV  TOTALREV  \\\n",
       "0  AUTAUGA COUNTY SCHOOL DISTRICT  1.500100e+12    N       3     79665   \n",
       "1  BALDWIN COUNTY SCHOOL DISTRICT  1.500200e+12  380       3    330317   \n",
       "2  BARBOUR COUNTY SCHOOL DISTRICT  1.500300e+12    N       3     10519   \n",
       "3    EUFAULA CITY SCHOOL DISTRICT  1.500300e+12    N       3     26076   \n",
       "4     BIBB COUNTY SCHOOL DISTRICT  1.500400e+12  142       3     31825   \n",
       "\n",
       "   TFEDREV  TSTREV  TLOCREV  TCURINST  TCURSSVC  \n",
       "0     7574   53244    18847     44085     23217  \n",
       "1    23602  143282   163433    155668     99682  \n",
       "2     2518    5632     2369      5249      3835  \n",
       "3     3374   16048     6654     14887      7494  \n",
       "4     3586   21687     6552     16019     10822  "
      ]
     },
     "execution_count": 75,
     "metadata": {},
     "output_type": "execute_result"
    }
   ],
   "source": [
    "clean_df.head()"
   ]
  },
  {
   "cell_type": "code",
   "execution_count": 76,
   "metadata": {},
   "outputs": [
    {
     "data": {
      "text/plain": [
       "(14376, 10)"
      ]
     },
     "execution_count": 76,
     "metadata": {},
     "output_type": "execute_result"
    }
   ],
   "source": [
    "clean_df.shape"
   ]
  },
  {
   "cell_type": "code",
   "execution_count": 77,
   "metadata": {},
   "outputs": [
    {
     "data": {
      "text/plain": [
       "count    14376.000000\n",
       "mean         2.883139\n",
       "std          1.271649\n",
       "min          1.000000\n",
       "25%          3.000000\n",
       "50%          3.000000\n",
       "75%          3.000000\n",
       "max          7.000000\n",
       "Name: SCHLEV, dtype: float64"
      ]
     },
     "execution_count": 77,
     "metadata": {},
     "output_type": "execute_result"
    }
   ],
   "source": [
    "clean_df['SCHLEV'].describe()"
   ]
  },
  {
   "cell_type": "markdown",
   "metadata": {},
   "source": [
    "Does the amount of revenue affect the amount of services the school provides?"
   ]
  },
  {
   "cell_type": "markdown",
   "metadata": {},
   "source": [
    "Is there a difference in schools that receive local vs federal funding?"
   ]
  },
  {
   "cell_type": "code",
   "execution_count": 78,
   "metadata": {},
   "outputs": [
    {
     "data": {
      "text/plain": [
       "10478"
      ]
     },
     "execution_count": 78,
     "metadata": {},
     "output_type": "execute_result"
    }
   ],
   "source": [
    "sum(clean_df['SCHLEV'] == 3)"
   ]
  },
  {
   "cell_type": "code",
   "execution_count": 79,
   "metadata": {},
   "outputs": [
    {
     "data": {
      "text/plain": [
       "423"
      ]
     },
     "execution_count": 79,
     "metadata": {},
     "output_type": "execute_result"
    }
   ],
   "source": [
    "sum(clean_df['SCHLEV'] == 2)"
   ]
  },
  {
   "cell_type": "code",
   "execution_count": 80,
   "metadata": {},
   "outputs": [
    {
     "data": {
      "text/plain": [
       "2435"
      ]
     },
     "execution_count": 80,
     "metadata": {},
     "output_type": "execute_result"
    }
   ],
   "source": [
    "sum(clean_df['SCHLEV'] == 1)"
   ]
  },
  {
   "cell_type": "code",
   "execution_count": 81,
   "metadata": {},
   "outputs": [
    {
     "data": {
      "text/plain": [
       "array([3, 1, 5, 2, 6, 7])"
      ]
     },
     "execution_count": 81,
     "metadata": {},
     "output_type": "execute_result"
    }
   ],
   "source": [
    "clean_df.SCHLEV.unique()"
   ]
  },
  {
   "cell_type": "code",
   "execution_count": 114,
   "metadata": {},
   "outputs": [
    {
     "data": {
      "image/png": "[encoded data removed]",
      "text/plain": [
       "<matplotlib.figure.Figure at 0x11c5a5f60>"
      ]
     },
     "metadata": {},
     "output_type": "display_data"
    }
   ],
   "source": [
    "TR = sns.barplot(clean_df.SCHLEV, clean_df.TOTALREV).set_title('Total Revenue')"
   ]
  },
  {
   "cell_type": "code",
   "execution_count": 115,
   "metadata": {},
   "outputs": [
    {
     "data": {
      "image/png": "[encoded data removed]",
      "text/plain": [
       "<matplotlib.figure.Figure at 0x11c6e1400>"
      ]
     },
     "metadata": {},
     "output_type": "display_data"
    }
   ],
   "source": [
    "FED = sns.barplot(clean_df.SCHLEV, clean_df.TFEDREV).set_title('Total Fed Revenue')"
   ]
  },
  {
   "cell_type": "code",
   "execution_count": 116,
   "metadata": {},
   "outputs": [
    {
     "data": {
      "text/plain": [
       "<matplotlib.text.Text at 0x11cb36438>"
      ]
     },
     "execution_count": 116,
     "metadata": {},
     "output_type": "execute_result"
    },
    {
     "data": {
      "image/png": "[encoded data removed]",
      "text/plain": [
       "<matplotlib.figure.Figure at 0x11c5e0cf8>"
      ]
     },
     "metadata": {},
     "output_type": "display_data"
    }
   ],
   "source": [
    "sns.barplot(clean_df.SCHLEV, clean_df.TSTREV).set_title('Total State Revenue')"
   ]
  },
  {
   "cell_type": "code",
   "execution_count": null,
   "metadata": {},
   "outputs": [],
   "source": []
  },
  {
   "cell_type": "code",
   "execution_count": 85,
   "metadata": {},
   "outputs": [],
   "source": [
    "#fig, axs = plt.subplots(1,2)\n",
    "#fig, axs = plt.subplots(ncols=2, figsize=(10, 4))\n",
    "#fed = sns.barplot(clean_df.SCHLEV, clean_df.TFEDREV)\n",
    "#state = sns.barplot(clean_df.SCHLEV, clean_df.TSTREV)"
   ]
  },
  {
   "cell_type": "code",
   "execution_count": 86,
   "metadata": {},
   "outputs": [
    {
     "data": {
      "text/plain": [
       "<seaborn.axisgrid.JointGrid at 0x11bab15f8>"
      ]
     },
     "execution_count": 86,
     "metadata": {},
     "output_type": "execute_result"
    },
    {
     "data": {
      "image/png": "[encoded data removed]",
      "text/plain": [
       "<matplotlib.figure.Figure at 0x11bab1dd8>"
      ]
     },
     "metadata": {},
     "output_type": "display_data"
    }
   ],
   "source": [
    "sns.jointplot(clean_df.TFEDREV, clean_df.TOTALREV)"
   ]
  },
  {
   "cell_type": "code",
   "execution_count": 87,
   "metadata": {},
   "outputs": [
    {
     "ename": "NameError",
     "evalue": "name 'points' is not defined",
     "output_type": "error",
     "traceback": [
      "\u001b[0;31m---------------------------------------------------------------------------\u001b[0m",
      "\u001b[0;31mNameError\u001b[0m                                 Traceback (most recent call last)",
      "\u001b[0;32m<ipython-input-87-697c734198d6>\u001b[0m in \u001b[0;36m<module>\u001b[0;34m()\u001b[0m\n\u001b[1;32m      1\u001b[0m \u001b[0mplt\u001b[0m\u001b[0;34m.\u001b[0m\u001b[0mfigure\u001b[0m\u001b[0;34m(\u001b[0m\u001b[0;36m1\u001b[0m\u001b[0;34m)\u001b[0m \u001b[0;31m#look at scatter plots\u001b[0m\u001b[0;34m\u001b[0m\u001b[0m\n\u001b[0;32m----> 2\u001b[0;31m \u001b[0mplt\u001b[0m\u001b[0;34m.\u001b[0m\u001b[0mscatter\u001b[0m\u001b[0;34m(\u001b[0m\u001b[0mpoints\u001b[0m\u001b[0;34m,\u001b[0m\u001b[0mwage\u001b[0m\u001b[0;34m)\u001b[0m\u001b[0;34m\u001b[0m\u001b[0m\n\u001b[0m\u001b[1;32m      3\u001b[0m \u001b[0mplt\u001b[0m\u001b[0;34m.\u001b[0m\u001b[0mtitle\u001b[0m\u001b[0;34m(\u001b[0m\u001b[0;34m\"Wage vs. Points\"\u001b[0m\u001b[0;34m)\u001b[0m\u001b[0;34m\u001b[0m\u001b[0m\n\u001b[1;32m      4\u001b[0m \u001b[0mplt\u001b[0m\u001b[0;34m.\u001b[0m\u001b[0mxlabel\u001b[0m\u001b[0;34m(\u001b[0m\u001b[0;34m\"Points\"\u001b[0m\u001b[0;34m)\u001b[0m\u001b[0;34m\u001b[0m\u001b[0m\n\u001b[1;32m      5\u001b[0m \u001b[0mplt\u001b[0m\u001b[0;34m.\u001b[0m\u001b[0mylabel\u001b[0m\u001b[0;34m(\u001b[0m\u001b[0;34m\"Wage\"\u001b[0m\u001b[0;34m)\u001b[0m\u001b[0;34m\u001b[0m\u001b[0m\n",
      "\u001b[0;31mNameError\u001b[0m: name 'points' is not defined"
     ]
    },
    {
     "data": {
      "text/plain": [
       "<matplotlib.figure.Figure at 0x11bfdf1d0>"
      ]
     },
     "metadata": {},
     "output_type": "display_data"
    }
   ],
   "source": [
    "plt.figure(1) #look at scatter plots\n",
    "plt.scatter(points,wage)\n",
    "plt.title(\"Wage vs. Points\")\n",
    "plt.xlabel(\"Points\")\n",
    "plt.ylabel(\"Wage\")\n",
    "plt.show()\n",
    "plt.close()\n",
    "\n",
    "plt.figure(2)\n",
    "plt.scatter(exper,wage)\n",
    "plt.title(\"Wage vs. Experience\")\n",
    "plt.xlabel(\"Experience\")\n",
    "plt.ylabel(\"Wage\")\n",
    "\n",
    "plt.show()"
   ]
  },
  {
   "cell_type": "code",
   "execution_count": 105,
   "metadata": {},
   "outputs": [
    {
     "data": {
      "text/plain": [
       "array(['N', '380', '142', '194', '222', '174', '290', '536', '332', '340',\n",
       "       '308', '368', '284', '488', '472', '260', '546', '348', '382',\n",
       "       '454', '216', '233', '444', '525', '408', '278', '148', '428',\n",
       "       '548', '264', '300', '370', '412', '162', '422', '533', '122',\n",
       "       '356', '496', '470', '147', '292', '518', '446', '448', '164',\n",
       "       '476', '466', '176', '522', '145', '426', '209', '221', '424',\n",
       "       '258', '294', '320', '350', '178', '515', '458', '316', '144',\n",
       "       '168', '218', '420', '512', '312', '556', '358', '150', '336',\n",
       "       '170', '362', '406', '318', '217', '384', '438', '521', '266',\n",
       "       '474', '310', '330', '220', '394', '378', '359', '244', '462',\n",
       "       '185', '298', '190', '520', '309', '339', '456', '106', '188',\n",
       "       '238', '160', '464', '532', '104', '236', '296', '268', '280',\n",
       "       '274', '396', '120', '172', '545', '404', '450', '246', '468',\n",
       "       '338', '360', '184', '212', '566', '198', '534', '248', '430',\n",
       "       '425', '206', '416', '538', '440', '140', '366', '276', '306',\n",
       "       '524', '558', '146', '240', '564', '273', '192', '452', '400',\n",
       "       '314', '304', '288', '204', '108', '544', '154', '365', '540',\n",
       "       '352', '372', '346', '482', '277', '393', '500', '390', '242',\n",
       "       '138', '267', '118', '376', '232', '357', '554'], dtype=object)"
      ]
     },
     "execution_count": 105,
     "metadata": {},
     "output_type": "execute_result"
    }
   ],
   "source": [
    "clean_df.CSA.unique()"
   ]
  },
  {
   "cell_type": "code",
   "execution_count": 98,
   "metadata": {},
   "outputs": [
    {
     "data": {
      "text/plain": [
       "<pandas.core.groupby.DataFrameGroupBy object at 0x1154b9198>"
      ]
     },
     "execution_count": 98,
     "metadata": {},
     "output_type": "execute_result"
    }
   ],
   "source": [
    "new = clean_df.groupby('CSA')\n",
    "new"
   ]
  },
  {
   "cell_type": "code",
   "execution_count": 110,
   "metadata": {},
   "outputs": [
    {
     "ename": "TypeError",
     "evalue": "object of type 'int' has no len()",
     "output_type": "error",
     "traceback": [
      "\u001b[0;31m---------------------------------------------------------------------------\u001b[0m",
      "\u001b[0;31mTypeError\u001b[0m                                 Traceback (most recent call last)",
      "\u001b[0;32m<ipython-input-110-74c105db95b1>\u001b[0m in \u001b[0;36m<module>\u001b[0;34m()\u001b[0m\n\u001b[0;32m----> 1\u001b[0;31m \u001b[0mclean_df\u001b[0m\u001b[0;34m[\u001b[0m\u001b[0mclean_df\u001b[0m\u001b[0;34m[\u001b[0m\u001b[0;34m'TOTALREV'\u001b[0m\u001b[0;34m]\u001b[0m\u001b[0;34m.\u001b[0m\u001b[0mmap\u001b[0m\u001b[0;34m(\u001b[0m\u001b[0mlen\u001b[0m\u001b[0;34m)\u001b[0m \u001b[0;34m>\u001b[0m \u001b[0;36m.5\u001b[0m\u001b[0;34m]\u001b[0m\u001b[0;34m\u001b[0m\u001b[0m\n\u001b[0m",
      "\u001b[0;32m/Users/SophiaLi/anaconda/lib/python3.6/site-packages/pandas/core/series.py\u001b[0m in \u001b[0;36mmap\u001b[0;34m(self, arg, na_action)\u001b[0m\n\u001b[1;32m   2156\u001b[0m         \u001b[0;32melse\u001b[0m\u001b[0;34m:\u001b[0m\u001b[0;34m\u001b[0m\u001b[0m\n\u001b[1;32m   2157\u001b[0m             \u001b[0;31m# arg is a function\u001b[0m\u001b[0;34m\u001b[0m\u001b[0;34m\u001b[0m\u001b[0m\n\u001b[0;32m-> 2158\u001b[0;31m             \u001b[0mnew_values\u001b[0m \u001b[0;34m=\u001b[0m \u001b[0mmap_f\u001b[0m\u001b[0;34m(\u001b[0m\u001b[0mvalues\u001b[0m\u001b[0;34m,\u001b[0m \u001b[0marg\u001b[0m\u001b[0;34m)\u001b[0m\u001b[0;34m\u001b[0m\u001b[0m\n\u001b[0m\u001b[1;32m   2159\u001b[0m \u001b[0;34m\u001b[0m\u001b[0m\n\u001b[1;32m   2160\u001b[0m         return self._constructor(new_values,\n",
      "\u001b[0;32mpandas/_libs/src/inference.pyx\u001b[0m in \u001b[0;36mpandas._libs.lib.map_infer (pandas/_libs/lib.c:66440)\u001b[0;34m()\u001b[0m\n",
      "\u001b[0;31mTypeError\u001b[0m: object of type 'int' has no len()"
     ]
    }
   ],
   "source": [
    "clean_df[clean_df['TOTALREV'].map(len) > .5]"
   ]
  },
  {
   "cell_type": "code",
   "execution_count": null,
   "metadata": {
    "collapsed": true
   },
   "outputs": [],
   "source": []
  }
 ],
 "metadata": {
  "kernelspec": {
   "display_name": "Python 3",
   "language": "python",
   "name": "python3"
  },
  "language_info": {
   "codemirror_mode": {
    "name": "ipython",
    "version": 3
   },
   "file_extension": ".py",
   "mimetype": "text/x-python",
   "name": "python",
   "nbconvert_exporter": "python",
   "pygments_lexer": "ipython3",
   "version": "3.6.1"
  }
 },
 "nbformat": 4,
 "nbformat_minor": 2
}
